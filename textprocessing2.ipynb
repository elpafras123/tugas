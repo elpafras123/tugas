{
 "cells": [
  {
   "cell_type": "code",
   "execution_count": 1,
   "id": "f1c583a9",
   "metadata": {},
   "outputs": [
    {
     "data": {
      "text/plain": [
       "['The Industrial Revolution 4.0 is changing most of the business activities',\n",
       " 'The Industrial Revolution 4.0 has five technologies that are the main points',\n",
       " 'Industry 4.0 opens new challenges for companies']"
      ]
     },
     "execution_count": 1,
     "metadata": {},
     "output_type": "execute_result"
    }
   ],
   "source": [
    "corpus= [\n",
    "    'The Industrial Revolution 4.0 is changing most of the business activities',\n",
    "    'The Industrial Revolution 4.0 has five technologies that are the main points',\n",
    "    'Industry 4.0 opens new challenges for companies'\n",
    "]\n",
    "\n",
    "corpus"
   ]
  },
  {
   "cell_type": "code",
   "execution_count": 2,
   "id": "f8d2dabc",
   "metadata": {},
   "outputs": [
    {
     "data": {
      "text/plain": [
       "matrix([[1, 0, 1, 0, 1, 0, 0, 0, 0, 1, 0, 1, 0, 1, 0, 1, 0, 0, 1, 0, 0,\n",
       "         2],\n",
       "        [0, 1, 0, 0, 0, 0, 1, 0, 1, 1, 0, 0, 1, 0, 0, 0, 0, 1, 1, 1, 1,\n",
       "         2],\n",
       "        [0, 0, 0, 1, 0, 1, 0, 1, 0, 0, 1, 0, 0, 0, 1, 0, 1, 0, 0, 0, 0,\n",
       "         0]], dtype=int64)"
      ]
     },
     "execution_count": 2,
     "metadata": {},
     "output_type": "execute_result"
    }
   ],
   "source": [
    "from sklearn.feature_extraction.text import CountVectorizer\n",
    "\n",
    "v = CountVectorizer()\n",
    "vx = v.fit_transform(corpus).todense()\n",
    "vx"
   ]
  },
  {
   "cell_type": "code",
   "execution_count": 3,
   "id": "32f66aea",
   "metadata": {},
   "outputs": [
    {
     "data": {
      "text/plain": [
       "['activities',\n",
       " 'are',\n",
       " 'business',\n",
       " 'challenges',\n",
       " 'changing',\n",
       " 'companies',\n",
       " 'five',\n",
       " 'for',\n",
       " 'has',\n",
       " 'industrial',\n",
       " 'industry',\n",
       " 'is',\n",
       " 'main',\n",
       " 'most',\n",
       " 'new',\n",
       " 'of',\n",
       " 'opens',\n",
       " 'points',\n",
       " 'revolution',\n",
       " 'technologies',\n",
       " 'that',\n",
       " 'the']"
      ]
     },
     "execution_count": 3,
     "metadata": {},
     "output_type": "execute_result"
    }
   ],
   "source": [
    "v.get_feature_names()"
   ]
  },
  {
   "cell_type": "code",
   "execution_count": 6,
   "id": "5d0f23f3",
   "metadata": {},
   "outputs": [
    {
     "name": "stdout",
     "output_type": "stream",
     "text": [
      "jarak dokumen 1: [[3.60555128]]\n",
      "jarak dokumen 1: [[4.24264069]]\n",
      "jarak dokumen 2: [[4.35889894]]\n"
     ]
    }
   ],
   "source": [
    "from sklearn.metrics.pairwise import euclidean_distances\n",
    "\n",
    "for i in range(len(vx)) :\n",
    "    for j in range (i, len(vx)) :\n",
    "        if i == j:\n",
    "            continue\n",
    "        z = euclidean_distances(vx[i], vx[j])\n",
    "        print(f'jarak dokumen {i+1}: {z}')"
   ]
  },
  {
   "cell_type": "code",
   "execution_count": 9,
   "id": "5b97163f",
   "metadata": {},
   "outputs": [
    {
     "data": {
      "text/plain": [
       "matrix([[1, 1, 0, 1, 0, 1, 0, 0, 0, 0, 0, 1, 0],\n",
       "        [0, 0, 0, 0, 0, 1, 0, 1, 0, 0, 1, 1, 1],\n",
       "        [0, 0, 1, 0, 1, 0, 1, 0, 1, 1, 0, 0, 0]], dtype=int64)"
      ]
     },
     "execution_count": 9,
     "metadata": {},
     "output_type": "execute_result"
    }
   ],
   "source": [
    "from sklearn.feature_extraction.text import CountVectorizer\n",
    "\n",
    "v = CountVectorizer(stop_words='english')\n",
    "vx = v.fit_transform(corpus).todense()\n",
    "vx"
   ]
  },
  {
   "cell_type": "code",
   "execution_count": 10,
   "id": "94a4bcbe",
   "metadata": {},
   "outputs": [
    {
     "data": {
      "text/plain": [
       "['activities',\n",
       " 'business',\n",
       " 'challenges',\n",
       " 'changing',\n",
       " 'companies',\n",
       " 'industrial',\n",
       " 'industry',\n",
       " 'main',\n",
       " 'new',\n",
       " 'opens',\n",
       " 'points',\n",
       " 'revolution',\n",
       " 'technologies']"
      ]
     },
     "execution_count": 10,
     "metadata": {},
     "output_type": "execute_result"
    }
   ],
   "source": [
    "v.get_feature_names()"
   ]
  },
  {
   "cell_type": "code",
   "execution_count": null,
   "id": "c849bdc9",
   "metadata": {},
   "outputs": [],
   "source": []
  }
 ],
 "metadata": {
  "kernelspec": {
   "display_name": "Python 3",
   "language": "python",
   "name": "python3"
  },
  "language_info": {
   "codemirror_mode": {
    "name": "ipython",
    "version": 3
   },
   "file_extension": ".py",
   "mimetype": "text/x-python",
   "name": "python",
   "nbconvert_exporter": "python",
   "pygments_lexer": "ipython3",
   "version": "3.8.8"
  }
 },
 "nbformat": 4,
 "nbformat_minor": 5
}
